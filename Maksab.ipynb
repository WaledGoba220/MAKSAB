{
 "cells": [
  {
   "cell_type": "markdown",
   "metadata": {},
   "source": [
    "#### Import Libraries"
   ]
  },
  {
   "cell_type": "code",
   "execution_count": 2,
   "metadata": {},
   "outputs": [],
   "source": [
    "import numpy as np \n",
    "import pandas as pd \n",
    "import matplotlib.pyplot as plt\n",
    "import seaborn as sns "
   ]
  },
  {
   "cell_type": "markdown",
   "metadata": {},
   "source": [
    "#### Read the Data"
   ]
  },
  {
   "cell_type": "code",
   "execution_count": 3,
   "metadata": {},
   "outputs": [
    {
     "data": {
      "text/html": [
       "<div>\n",
       "<style scoped>\n",
       "    .dataframe tbody tr th:only-of-type {\n",
       "        vertical-align: middle;\n",
       "    }\n",
       "\n",
       "    .dataframe tbody tr th {\n",
       "        vertical-align: top;\n",
       "    }\n",
       "\n",
       "    .dataframe thead th {\n",
       "        text-align: right;\n",
       "    }\n",
       "</style>\n",
       "<table border=\"1\" class=\"dataframe\">\n",
       "  <thead>\n",
       "    <tr style=\"text-align: right;\">\n",
       "      <th></th>\n",
       "      <th>retailer_id</th>\n",
       "      <th>order_created</th>\n",
       "      <th>sales_order_id</th>\n",
       "      <th>order_price</th>\n",
       "      <th>count_of_products</th>\n",
       "      <th>retailer_type</th>\n",
       "      <th>channel</th>\n",
       "      <th>agent_id</th>\n",
       "      <th>visits created</th>\n",
       "      <th>time diff in minutes</th>\n",
       "      <th>visit time</th>\n",
       "      <th>order time</th>\n",
       "      <th>segment</th>\n",
       "    </tr>\n",
       "  </thead>\n",
       "  <tbody>\n",
       "    <tr>\n",
       "      <th>0</th>\n",
       "      <td>112982</td>\n",
       "      <td>June 9, 2022, 1:34 PM</td>\n",
       "      <td>5040826</td>\n",
       "      <td>829.75</td>\n",
       "      <td>8</td>\n",
       "      <td>Retention</td>\n",
       "      <td>telesales</td>\n",
       "      <td>2313</td>\n",
       "      <td>June 9, 2022, 1:28 PM</td>\n",
       "      <td>-6</td>\n",
       "      <td>#ERROR!</td>\n",
       "      <td>#ERROR!</td>\n",
       "      <td>#REF!</td>\n",
       "    </tr>\n",
       "    <tr>\n",
       "      <th>1</th>\n",
       "      <td>113206</td>\n",
       "      <td>June 5, 2022, 9:52 PM</td>\n",
       "      <td>4999110</td>\n",
       "      <td>12,585.75</td>\n",
       "      <td>49</td>\n",
       "      <td>Retention</td>\n",
       "      <td>telesales</td>\n",
       "      <td>5343</td>\n",
       "      <td>June 5, 2022, 9:43 PM</td>\n",
       "      <td>-9</td>\n",
       "      <td>#ERROR!</td>\n",
       "      <td>#ERROR!</td>\n",
       "      <td>#REF!</td>\n",
       "    </tr>\n",
       "    <tr>\n",
       "      <th>2</th>\n",
       "      <td>113206</td>\n",
       "      <td>June 19, 2022, 5:30 PM</td>\n",
       "      <td>5147632</td>\n",
       "      <td>380</td>\n",
       "      <td>3</td>\n",
       "      <td>Retention</td>\n",
       "      <td>telesales</td>\n",
       "      <td>4083</td>\n",
       "      <td>June 19, 2022, 5:28 PM</td>\n",
       "      <td>-2</td>\n",
       "      <td>#ERROR!</td>\n",
       "      <td>#ERROR!</td>\n",
       "      <td>#REF!</td>\n",
       "    </tr>\n",
       "    <tr>\n",
       "      <th>3</th>\n",
       "      <td>113612</td>\n",
       "      <td>June 5, 2022, 5:53 PM</td>\n",
       "      <td>4995720</td>\n",
       "      <td>6,048.5</td>\n",
       "      <td>42</td>\n",
       "      <td>Returning</td>\n",
       "      <td>telesales</td>\n",
       "      <td>2313</td>\n",
       "      <td>June 5, 2022, 5:44 PM</td>\n",
       "      <td>-8</td>\n",
       "      <td>#ERROR!</td>\n",
       "      <td>#ERROR!</td>\n",
       "      <td>#REF!</td>\n",
       "    </tr>\n",
       "    <tr>\n",
       "      <th>4</th>\n",
       "      <td>113662</td>\n",
       "      <td>June 9, 2022, 6:39 PM</td>\n",
       "      <td>5044706</td>\n",
       "      <td>1,029.75</td>\n",
       "      <td>12</td>\n",
       "      <td>Returning</td>\n",
       "      <td>telesales</td>\n",
       "      <td>2313</td>\n",
       "      <td>June 9, 2022, 6:31 PM</td>\n",
       "      <td>-7</td>\n",
       "      <td>#ERROR!</td>\n",
       "      <td>#ERROR!</td>\n",
       "      <td>#REF!</td>\n",
       "    </tr>\n",
       "  </tbody>\n",
       "</table>\n",
       "</div>"
      ],
      "text/plain": [
       "   retailer_id           order_created  sales_order_id order_price  \\\n",
       "0       112982   June 9, 2022, 1:34 PM         5040826      829.75   \n",
       "1       113206   June 5, 2022, 9:52 PM         4999110   12,585.75   \n",
       "2       113206  June 19, 2022, 5:30 PM         5147632         380   \n",
       "3       113612   June 5, 2022, 5:53 PM         4995720     6,048.5   \n",
       "4       113662   June 9, 2022, 6:39 PM         5044706    1,029.75   \n",
       "\n",
       "   count_of_products retailer_type    channel  agent_id  \\\n",
       "0                  8     Retention  telesales      2313   \n",
       "1                 49     Retention  telesales      5343   \n",
       "2                  3     Retention  telesales      4083   \n",
       "3                 42     Returning  telesales      2313   \n",
       "4                 12     Returning  telesales      2313   \n",
       "\n",
       "           visits created time diff in minutes  visit time order time segment  \n",
       "0   June 9, 2022, 1:28 PM                    -6    #ERROR!    #ERROR!   #REF!  \n",
       "1   June 5, 2022, 9:43 PM                    -9    #ERROR!    #ERROR!   #REF!  \n",
       "2  June 19, 2022, 5:28 PM                    -2    #ERROR!    #ERROR!   #REF!  \n",
       "3   June 5, 2022, 5:44 PM                    -8    #ERROR!    #ERROR!   #REF!  \n",
       "4   June 9, 2022, 6:31 PM                    -7    #ERROR!    #ERROR!   #REF!  "
      ]
     },
     "execution_count": 3,
     "metadata": {},
     "output_type": "execute_result"
    }
   ],
   "source": [
    "data=pd.read_csv(r\"C:\\Users\\I SEVEN\\Desktop\\Project\\Maksab.xlsx - Maksab Data.csv\")\n",
    "data.head()"
   ]
  },
  {
   "cell_type": "markdown",
   "metadata": {},
   "source": [
    "#### Info about the Data\n"
   ]
  },
  {
   "cell_type": "code",
   "execution_count": 4,
   "metadata": {},
   "outputs": [
    {
     "name": "stdout",
     "output_type": "stream",
     "text": [
      "<class 'pandas.core.frame.DataFrame'>\n",
      "RangeIndex: 2562 entries, 0 to 2561\n",
      "Data columns (total 13 columns):\n",
      " #   Column                 Non-Null Count  Dtype \n",
      "---  ------                 --------------  ----- \n",
      " 0   retailer_id            2562 non-null   int64 \n",
      " 1   order_created          2562 non-null   object\n",
      " 2   sales_order_id         2562 non-null   int64 \n",
      " 3   order_price            2562 non-null   object\n",
      " 4   count_of_products      2562 non-null   int64 \n",
      " 5   retailer_type          2562 non-null   object\n",
      " 6   channel                2562 non-null   object\n",
      " 7   agent_id               2562 non-null   int64 \n",
      " 8   visits created         2562 non-null   object\n",
      " 9   time diff in minutes   2562 non-null   object\n",
      " 10  visit time             2562 non-null   object\n",
      " 11  order time             2562 non-null   object\n",
      " 12  segment                2562 non-null   object\n",
      "dtypes: int64(4), object(9)\n",
      "memory usage: 260.3+ KB\n"
     ]
    }
   ],
   "source": [
    "data.info()"
   ]
  },
  {
   "cell_type": "code",
   "execution_count": 5,
   "metadata": {},
   "outputs": [
    {
     "data": {
      "text/plain": [
       "(2562, 13)"
      ]
     },
     "execution_count": 5,
     "metadata": {},
     "output_type": "execute_result"
    }
   ],
   "source": [
    "data.shape"
   ]
  },
  {
   "cell_type": "code",
   "execution_count": 6,
   "metadata": {},
   "outputs": [
    {
     "data": {
      "text/plain": [
       "Index(['retailer_id', 'order_created', 'sales_order_id', 'order_price',\n",
       "       'count_of_products', 'retailer_type', 'channel', 'agent_id',\n",
       "       'visits created', 'time diff in minutes ', 'visit time', 'order time',\n",
       "       'segment'],\n",
       "      dtype='object')"
      ]
     },
     "execution_count": 6,
     "metadata": {},
     "output_type": "execute_result"
    }
   ],
   "source": [
    "data.columns"
   ]
  },
  {
   "cell_type": "code",
   "execution_count": 7,
   "metadata": {},
   "outputs": [
    {
     "data": {
      "text/html": [
       "<div>\n",
       "<style scoped>\n",
       "    .dataframe tbody tr th:only-of-type {\n",
       "        vertical-align: middle;\n",
       "    }\n",
       "\n",
       "    .dataframe tbody tr th {\n",
       "        vertical-align: top;\n",
       "    }\n",
       "\n",
       "    .dataframe thead th {\n",
       "        text-align: right;\n",
       "    }\n",
       "</style>\n",
       "<table border=\"1\" class=\"dataframe\">\n",
       "  <thead>\n",
       "    <tr style=\"text-align: right;\">\n",
       "      <th></th>\n",
       "      <th>retailer_id</th>\n",
       "      <th>sales_order_id</th>\n",
       "      <th>count_of_products</th>\n",
       "      <th>agent_id</th>\n",
       "    </tr>\n",
       "  </thead>\n",
       "  <tbody>\n",
       "    <tr>\n",
       "      <th>count</th>\n",
       "      <td>2562.000000</td>\n",
       "      <td>2.562000e+03</td>\n",
       "      <td>2562.000000</td>\n",
       "      <td>2562.000000</td>\n",
       "    </tr>\n",
       "    <tr>\n",
       "      <th>mean</th>\n",
       "      <td>388796.341920</td>\n",
       "      <td>5.052894e+06</td>\n",
       "      <td>7.438329</td>\n",
       "      <td>4170.364169</td>\n",
       "    </tr>\n",
       "    <tr>\n",
       "      <th>std</th>\n",
       "      <td>150930.254756</td>\n",
       "      <td>6.215736e+04</td>\n",
       "      <td>4.983799</td>\n",
       "      <td>1415.674988</td>\n",
       "    </tr>\n",
       "    <tr>\n",
       "      <th>min</th>\n",
       "      <td>112982.000000</td>\n",
       "      <td>4.946008e+06</td>\n",
       "      <td>1.000000</td>\n",
       "      <td>1893.000000</td>\n",
       "    </tr>\n",
       "    <tr>\n",
       "      <th>25%</th>\n",
       "      <td>265018.000000</td>\n",
       "      <td>4.998870e+06</td>\n",
       "      <td>4.000000</td>\n",
       "      <td>3033.000000</td>\n",
       "    </tr>\n",
       "    <tr>\n",
       "      <th>50%</th>\n",
       "      <td>388748.000000</td>\n",
       "      <td>5.046414e+06</td>\n",
       "      <td>6.000000</td>\n",
       "      <td>4218.000000</td>\n",
       "    </tr>\n",
       "    <tr>\n",
       "      <th>75%</th>\n",
       "      <td>514048.000000</td>\n",
       "      <td>5.105035e+06</td>\n",
       "      <td>10.000000</td>\n",
       "      <td>5472.000000</td>\n",
       "    </tr>\n",
       "    <tr>\n",
       "      <th>max</th>\n",
       "      <td>666048.000000</td>\n",
       "      <td>5.164260e+06</td>\n",
       "      <td>60.000000</td>\n",
       "      <td>5949.000000</td>\n",
       "    </tr>\n",
       "  </tbody>\n",
       "</table>\n",
       "</div>"
      ],
      "text/plain": [
       "         retailer_id  sales_order_id  count_of_products     agent_id\n",
       "count    2562.000000    2.562000e+03        2562.000000  2562.000000\n",
       "mean   388796.341920    5.052894e+06           7.438329  4170.364169\n",
       "std    150930.254756    6.215736e+04           4.983799  1415.674988\n",
       "min    112982.000000    4.946008e+06           1.000000  1893.000000\n",
       "25%    265018.000000    4.998870e+06           4.000000  3033.000000\n",
       "50%    388748.000000    5.046414e+06           6.000000  4218.000000\n",
       "75%    514048.000000    5.105035e+06          10.000000  5472.000000\n",
       "max    666048.000000    5.164260e+06          60.000000  5949.000000"
      ]
     },
     "execution_count": 7,
     "metadata": {},
     "output_type": "execute_result"
    }
   ],
   "source": [
    "data.describe()"
   ]
  },
  {
   "cell_type": "code",
   "execution_count": 8,
   "metadata": {},
   "outputs": [
    {
     "data": {
      "text/plain": [
       "retailer_id              0\n",
       "order_created            0\n",
       "sales_order_id           0\n",
       "order_price              0\n",
       "count_of_products        0\n",
       "retailer_type            0\n",
       "channel                  0\n",
       "agent_id                 0\n",
       "visits created           0\n",
       "time diff in minutes     0\n",
       "visit time               0\n",
       "order time               0\n",
       "segment                  0\n",
       "dtype: int64"
      ]
     },
     "execution_count": 8,
     "metadata": {},
     "output_type": "execute_result"
    }
   ],
   "source": [
    "data.isnull().sum()"
   ]
  },
  {
   "cell_type": "code",
   "execution_count": 9,
   "metadata": {},
   "outputs": [
    {
     "data": {
      "text/html": [
       "<div>\n",
       "<style scoped>\n",
       "    .dataframe tbody tr th:only-of-type {\n",
       "        vertical-align: middle;\n",
       "    }\n",
       "\n",
       "    .dataframe tbody tr th {\n",
       "        vertical-align: top;\n",
       "    }\n",
       "\n",
       "    .dataframe thead th {\n",
       "        text-align: right;\n",
       "    }\n",
       "</style>\n",
       "<table border=\"1\" class=\"dataframe\">\n",
       "  <thead>\n",
       "    <tr style=\"text-align: right;\">\n",
       "      <th></th>\n",
       "      <th>order_created</th>\n",
       "      <th>order_price</th>\n",
       "      <th>retailer_type</th>\n",
       "      <th>channel</th>\n",
       "      <th>visits created</th>\n",
       "      <th>time diff in minutes</th>\n",
       "      <th>visit time</th>\n",
       "      <th>order time</th>\n",
       "      <th>segment</th>\n",
       "    </tr>\n",
       "  </thead>\n",
       "  <tbody>\n",
       "    <tr>\n",
       "      <th>count</th>\n",
       "      <td>2562</td>\n",
       "      <td>2562</td>\n",
       "      <td>2562</td>\n",
       "      <td>2562</td>\n",
       "      <td>2562</td>\n",
       "      <td>2562</td>\n",
       "      <td>2562</td>\n",
       "      <td>2562</td>\n",
       "      <td>2562</td>\n",
       "    </tr>\n",
       "    <tr>\n",
       "      <th>unique</th>\n",
       "      <td>2258</td>\n",
       "      <td>2073</td>\n",
       "      <td>3</td>\n",
       "      <td>2</td>\n",
       "      <td>2219</td>\n",
       "      <td>281</td>\n",
       "      <td>1</td>\n",
       "      <td>1</td>\n",
       "      <td>1</td>\n",
       "    </tr>\n",
       "    <tr>\n",
       "      <th>top</th>\n",
       "      <td>June 2, 2022, 4:59 PM</td>\n",
       "      <td>215</td>\n",
       "      <td>Retention</td>\n",
       "      <td>retailer</td>\n",
       "      <td>June 9, 2022, 6:14 PM</td>\n",
       "      <td>0</td>\n",
       "      <td>#ERROR!</td>\n",
       "      <td>#ERROR!</td>\n",
       "      <td>#REF!</td>\n",
       "    </tr>\n",
       "    <tr>\n",
       "      <th>freq</th>\n",
       "      <td>3</td>\n",
       "      <td>22</td>\n",
       "      <td>1640</td>\n",
       "      <td>1507</td>\n",
       "      <td>4</td>\n",
       "      <td>604</td>\n",
       "      <td>2562</td>\n",
       "      <td>2562</td>\n",
       "      <td>2562</td>\n",
       "    </tr>\n",
       "  </tbody>\n",
       "</table>\n",
       "</div>"
      ],
      "text/plain": [
       "                order_created order_price retailer_type   channel  \\\n",
       "count                    2562        2562          2562      2562   \n",
       "unique                   2258        2073             3         2   \n",
       "top     June 2, 2022, 4:59 PM         215     Retention  retailer   \n",
       "freq                        3          22          1640      1507   \n",
       "\n",
       "               visits created time diff in minutes  visit time order time  \\\n",
       "count                    2562                  2562       2562       2562   \n",
       "unique                   2219                   281          1          1   \n",
       "top     June 9, 2022, 6:14 PM                     0    #ERROR!    #ERROR!   \n",
       "freq                        4                   604       2562       2562   \n",
       "\n",
       "       segment  \n",
       "count     2562  \n",
       "unique       1  \n",
       "top      #REF!  \n",
       "freq      2562  "
      ]
     },
     "execution_count": 9,
     "metadata": {},
     "output_type": "execute_result"
    }
   ],
   "source": [
    "data.describe(include=\"O\")"
   ]
  },
  {
   "cell_type": "markdown",
   "metadata": {},
   "source": [
    "#### Question1"
   ]
  },
  {
   "cell_type": "code",
   "execution_count": 10,
   "metadata": {},
   "outputs": [
    {
     "data": {
      "text/plain": [
       "agent_id\n",
       "1893     86\n",
       "1899    122\n",
       "1908     98\n",
       "2313    104\n",
       "2415     94\n",
       "2439     80\n",
       "3033    102\n",
       "3069     92\n",
       "3207    102\n",
       "3507     93\n",
       "3843     75\n",
       "4083    110\n",
       "4170     96\n",
       "4218     93\n",
       "4533    116\n",
       "5196    111\n",
       "5343    121\n",
       "5463     92\n",
       "5469     99\n",
       "5472     81\n",
       "5550     69\n",
       "5586     68\n",
       "5676    104\n",
       "5730    129\n",
       "5934     86\n",
       "5940     50\n",
       "5949     89\n",
       "Name: visits created, dtype: int64"
      ]
     },
     "execution_count": 10,
     "metadata": {},
     "output_type": "execute_result"
    }
   ],
   "source": [
    "visits_per_agent=data.groupby('agent_id')['visits created'].count()\n",
    "visits_per_agent"
   ]
  },
  {
   "cell_type": "markdown",
   "metadata": {},
   "source": [
    "#### Question 2"
   ]
  },
  {
   "cell_type": "code",
   "execution_count": 11,
   "metadata": {},
   "outputs": [
    {
     "data": {
      "text/plain": [
       "agent_id\n",
       "1893     86\n",
       "1899    120\n",
       "1908     95\n",
       "2313    103\n",
       "2415     87\n",
       "2439     80\n",
       "3033    101\n",
       "3069     88\n",
       "3207     96\n",
       "3507     93\n",
       "3843     74\n",
       "4083    103\n",
       "4170     92\n",
       "4218     91\n",
       "4533    114\n",
       "5196    101\n",
       "5343    113\n",
       "5463     87\n",
       "5469     95\n",
       "5472     80\n",
       "5550     65\n",
       "5586     64\n",
       "5676     92\n",
       "5730    109\n",
       "5934     81\n",
       "5940     47\n",
       "5949     87\n",
       "Name: retailer_id, dtype: int64"
      ]
     },
     "execution_count": 11,
     "metadata": {},
     "output_type": "execute_result"
    }
   ],
   "source": [
    "unique_retailers=data.groupby('agent_id')['retailer_id'].nunique()\n",
    "unique_retailers"
   ]
  },
  {
   "cell_type": "code",
   "execution_count": 12,
   "metadata": {},
   "outputs": [
    {
     "data": {
      "text/plain": [
       "agent_id\n",
       "1893    100.000000\n",
       "1899     98.360656\n",
       "1908     96.938776\n",
       "2313     99.038462\n",
       "2415     92.553191\n",
       "2439    100.000000\n",
       "3033     99.019608\n",
       "3069     95.652174\n",
       "3207     94.117647\n",
       "3507    100.000000\n",
       "3843     98.666667\n",
       "4083     93.636364\n",
       "4170     95.833333\n",
       "4218     97.849462\n",
       "4533     98.275862\n",
       "5196     90.990991\n",
       "5343     93.388430\n",
       "5463     94.565217\n",
       "5469     95.959596\n",
       "5472     98.765432\n",
       "5550     94.202899\n",
       "5586     94.117647\n",
       "5676     88.461538\n",
       "5730     84.496124\n",
       "5934     94.186047\n",
       "5940     94.000000\n",
       "5949     97.752809\n",
       "dtype: float64"
      ]
     },
     "execution_count": 12,
     "metadata": {},
     "output_type": "execute_result"
    }
   ],
   "source": [
    "unique_visitt=(unique_retailers/visits_per_agent)*100\n",
    "unique_visitt"
   ]
  },
  {
   "cell_type": "code",
   "execution_count": 13,
   "metadata": {},
   "outputs": [
    {
     "data": {
      "text/plain": [
       "Index(['retailer_id', 'order_created', 'sales_order_id', 'order_price',\n",
       "       'count_of_products', 'retailer_type', 'channel', 'agent_id',\n",
       "       'visits created', 'time diff in minutes ', 'visit time', 'order time',\n",
       "       'segment'],\n",
       "      dtype='object')"
      ]
     },
     "execution_count": 13,
     "metadata": {},
     "output_type": "execute_result"
    }
   ],
   "source": [
    "data.columns"
   ]
  },
  {
   "cell_type": "markdown",
   "metadata": {},
   "source": [
    "#### Question 3\n"
   ]
  },
  {
   "cell_type": "code",
   "execution_count": 14,
   "metadata": {},
   "outputs": [
    {
     "data": {
      "text/plain": [
       "visits created\n",
       "June 1, 2022, 1:41 PM    1\n",
       "June 1, 2022, 2:08 PM    1\n",
       "June 1, 2022, 2:31 PM    1\n",
       "June 1, 2022, 2:36 PM    1\n",
       "June 1, 2022, 2:41 PM    1\n",
       "                        ..\n",
       "June 9, 2022, 9:09 PM    1\n",
       "June 9, 2022, 9:11 PM    1\n",
       "June 9, 2022, 9:17 PM    1\n",
       "June 9, 2022, 9:26 PM    1\n",
       "June 9, 2022, 9:30 PM    1\n",
       "Name: sales_order_id, Length: 2219, dtype: int64"
      ]
     },
     "execution_count": 14,
     "metadata": {},
     "output_type": "execute_result"
    }
   ],
   "source": [
    "success_visit=data.groupby('visits created')['sales_order_id'].nunique()\n",
    "success_visit"
   ]
  },
  {
   "cell_type": "markdown",
   "metadata": {},
   "source": [
    "#### Question 4"
   ]
  },
  {
   "cell_type": "code",
   "execution_count": 15,
   "metadata": {},
   "outputs": [
    {
     "data": {
      "text/html": [
       "<div>\n",
       "<style scoped>\n",
       "    .dataframe tbody tr th:only-of-type {\n",
       "        vertical-align: middle;\n",
       "    }\n",
       "\n",
       "    .dataframe tbody tr th {\n",
       "        vertical-align: top;\n",
       "    }\n",
       "\n",
       "    .dataframe thead tr th {\n",
       "        text-align: left;\n",
       "    }\n",
       "\n",
       "    .dataframe thead tr:last-of-type th {\n",
       "        text-align: right;\n",
       "    }\n",
       "</style>\n",
       "<table border=\"1\" class=\"dataframe\">\n",
       "  <thead>\n",
       "    <tr>\n",
       "      <th></th>\n",
       "      <th colspan=\"3\" halign=\"left\">order_price</th>\n",
       "      <th colspan=\"3\" halign=\"left\">retailer_id</th>\n",
       "      <th colspan=\"3\" halign=\"left\">sales_order_id</th>\n",
       "    </tr>\n",
       "    <tr>\n",
       "      <th>retailer_type</th>\n",
       "      <th>Retention</th>\n",
       "      <th>Returning</th>\n",
       "      <th>acquisition</th>\n",
       "      <th>Retention</th>\n",
       "      <th>Returning</th>\n",
       "      <th>acquisition</th>\n",
       "      <th>Retention</th>\n",
       "      <th>Returning</th>\n",
       "      <th>acquisition</th>\n",
       "    </tr>\n",
       "    <tr>\n",
       "      <th>agent_id</th>\n",
       "      <th></th>\n",
       "      <th></th>\n",
       "      <th></th>\n",
       "      <th></th>\n",
       "      <th></th>\n",
       "      <th></th>\n",
       "      <th></th>\n",
       "      <th></th>\n",
       "      <th></th>\n",
       "    </tr>\n",
       "  </thead>\n",
       "  <tbody>\n",
       "    <tr>\n",
       "      <th>1893</th>\n",
       "      <td>278.758521,3411,056497.51,228.51,6171,633.6854...</td>\n",
       "      <td>1,422.38351,215215.75826.72227811.731,739704.2...</td>\n",
       "      <td>1,123.5486.5</td>\n",
       "      <td>53</td>\n",
       "      <td>31</td>\n",
       "      <td>2</td>\n",
       "      <td>53</td>\n",
       "      <td>31</td>\n",
       "      <td>2</td>\n",
       "    </tr>\n",
       "    <tr>\n",
       "      <th>1899</th>\n",
       "      <td>717.258471,092582.753,445.11,007.5682.25873.25...</td>\n",
       "      <td>1,189.75855.488312,116849.19838.46806.75834.25...</td>\n",
       "      <td>853.48895254.25816.14821.5910879.5847920972.98...</td>\n",
       "      <td>77</td>\n",
       "      <td>31</td>\n",
       "      <td>12</td>\n",
       "      <td>79</td>\n",
       "      <td>31</td>\n",
       "      <td>12</td>\n",
       "    </tr>\n",
       "    <tr>\n",
       "      <th>1908</th>\n",
       "      <td>1,507.71,7091,523.991,9791,1112,503217281.2599...</td>\n",
       "      <td>1,786.23542.51,309.5271.25325.5168202.25325.57...</td>\n",
       "      <td>219.51,479</td>\n",
       "      <td>46</td>\n",
       "      <td>47</td>\n",
       "      <td>2</td>\n",
       "      <td>48</td>\n",
       "      <td>48</td>\n",
       "      <td>2</td>\n",
       "    </tr>\n",
       "    <tr>\n",
       "      <th>2313</th>\n",
       "      <td>829.751,356.75898807.5210.251,645823.985,27599...</td>\n",
       "      <td>6,048.51,029.752121,121.251,0438002,113.5883.5...</td>\n",
       "      <td>108.5</td>\n",
       "      <td>66</td>\n",
       "      <td>36</td>\n",
       "      <td>1</td>\n",
       "      <td>67</td>\n",
       "      <td>36</td>\n",
       "      <td>1</td>\n",
       "    </tr>\n",
       "    <tr>\n",
       "      <th>2415</th>\n",
       "      <td>1,083163.56871,5381,594.5175.5271.252,2982,148...</td>\n",
       "      <td>949.61860.52071,711269.25912.992,290.73922.758...</td>\n",
       "      <td>1,843.5333.751,260.97336.65843.23840</td>\n",
       "      <td>58</td>\n",
       "      <td>24</td>\n",
       "      <td>5</td>\n",
       "      <td>64</td>\n",
       "      <td>24</td>\n",
       "      <td>6</td>\n",
       "    </tr>\n",
       "  </tbody>\n",
       "</table>\n",
       "</div>"
      ],
      "text/plain": [
       "                                                     order_price  \\\n",
       "retailer_type                                          Retention   \n",
       "agent_id                                                           \n",
       "1893           278.758521,3411,056497.51,228.51,6171,633.6854...   \n",
       "1899           717.258471,092582.753,445.11,007.5682.25873.25...   \n",
       "1908           1,507.71,7091,523.991,9791,1112,503217281.2599...   \n",
       "2313           829.751,356.75898807.5210.251,645823.985,27599...   \n",
       "2415           1,083163.56871,5381,594.5175.5271.252,2982,148...   \n",
       "\n",
       "                                                                  \\\n",
       "retailer_type                                          Returning   \n",
       "agent_id                                                           \n",
       "1893           1,422.38351,215215.75826.72227811.731,739704.2...   \n",
       "1899           1,189.75855.488312,116849.19838.46806.75834.25...   \n",
       "1908           1,786.23542.51,309.5271.25325.5168202.25325.57...   \n",
       "2313           6,048.51,029.752121,121.251,0438002,113.5883.5...   \n",
       "2415           949.61860.52071,711269.25912.992,290.73922.758...   \n",
       "\n",
       "                                                                 retailer_id  \\\n",
       "retailer_type                                        acquisition   Retention   \n",
       "agent_id                                                                       \n",
       "1893                                                1,123.5486.5          53   \n",
       "1899           853.48895254.25816.14821.5910879.5847920972.98...          77   \n",
       "1908                                                  219.51,479          46   \n",
       "2313                                                       108.5          66   \n",
       "2415                        1,843.5333.751,260.97336.65843.23840          58   \n",
       "\n",
       "                                    sales_order_id                        \n",
       "retailer_type Returning acquisition      Retention Returning acquisition  \n",
       "agent_id                                                                  \n",
       "1893                 31           2             53        31           2  \n",
       "1899                 31          12             79        31          12  \n",
       "1908                 47           2             48        48           2  \n",
       "2313                 36           1             67        36           1  \n",
       "2415                 24           5             64        24           6  "
      ]
     },
     "execution_count": 15,
     "metadata": {},
     "output_type": "execute_result"
    }
   ],
   "source": [
    "result = pd.pivot_table(  \n",
    "    data,\n",
    "    index=\"agent_id\",\n",
    "    columns='retailer_type',\n",
    "    aggfunc={\n",
    "        'sales_order_id': 'count',\n",
    "        'retailer_id': 'nunique',\n",
    "        'order_price': 'sum'\n",
    "    },\n",
    ") \n",
    "result.head()\n"
   ]
  },
  {
   "cell_type": "markdown",
   "metadata": {},
   "source": [
    "#### Question 5\n"
   ]
  },
  {
   "cell_type": "code",
   "execution_count": 16,
   "metadata": {},
   "outputs": [
    {
     "data": {
      "text/html": [
       "<div>\n",
       "<style scoped>\n",
       "    .dataframe tbody tr th:only-of-type {\n",
       "        vertical-align: middle;\n",
       "    }\n",
       "\n",
       "    .dataframe tbody tr th {\n",
       "        vertical-align: top;\n",
       "    }\n",
       "\n",
       "    .dataframe thead th {\n",
       "        text-align: right;\n",
       "    }\n",
       "</style>\n",
       "<table border=\"1\" class=\"dataframe\">\n",
       "  <thead>\n",
       "    <tr style=\"text-align: right;\">\n",
       "      <th></th>\n",
       "      <th>sales_order_id</th>\n",
       "      <th>visits created</th>\n",
       "    </tr>\n",
       "    <tr>\n",
       "      <th>segment</th>\n",
       "      <th></th>\n",
       "      <th></th>\n",
       "    </tr>\n",
       "  </thead>\n",
       "  <tbody>\n",
       "    <tr>\n",
       "      <th>#REF!</th>\n",
       "      <td>2562</td>\n",
       "      <td>2562</td>\n",
       "    </tr>\n",
       "  </tbody>\n",
       "</table>\n",
       "</div>"
      ],
      "text/plain": [
       "         sales_order_id  visits created\n",
       "segment                                \n",
       "#REF!              2562            2562"
      ]
     },
     "execution_count": 16,
     "metadata": {},
     "output_type": "execute_result"
    }
   ],
   "source": [
    "segment_analysis=pd.pivot_table(\n",
    "    data,\n",
    "    index='segment',\n",
    "    values=['visits created','sales_order_id'],\n",
    "    aggfunc={\n",
    "        'visits created': 'count',\n",
    "        'sales_order_id': 'count',\n",
    "    },\n",
    ")\n",
    "segment_analysis"
   ]
  },
  {
   "cell_type": "markdown",
   "metadata": {},
   "source": [
    "#### Visualization"
   ]
  },
  {
   "cell_type": "code",
   "execution_count": 17,
   "metadata": {},
   "outputs": [
    {
     "data": {
      "image/png": "[encoded data removed]",
      "text/plain": [
       "<Figure size 1000x600 with 1 Axes>"
      ]
     },
     "metadata": {},
     "output_type": "display_data"
    }
   ],
   "source": [
    "segment_analysis[['visits created', 'sales_order_id']].plot(kind='bar', figsize=(10, 6))\n",
    "plt.title('Visits and Orders by Segment', pad=20, fontsize=14)\n",
    "plt.ylabel('Count', fontsize=12)\n",
    "plt.xlabel('Segment', fontsize=12)\n",
    "plt.show()"
   ]
  },
  {
   "cell_type": "markdown",
   "metadata": {},
   "source": [
    "#### Question 6"
   ]
  },
  {
   "cell_type": "code",
   "execution_count": null,
   "metadata": {},
   "outputs": [
    {
     "data": {
      "text/html": [
       "<div>\n",
       "<style scoped>\n",
       "    .dataframe tbody tr th:only-of-type {\n",
       "        vertical-align: middle;\n",
       "    }\n",
       "\n",
       "    .dataframe tbody tr th {\n",
       "        vertical-align: top;\n",
       "    }\n",
       "\n",
       "    .dataframe thead th {\n",
       "        text-align: right;\n",
       "    }\n",
       "</style>\n",
       "<table border=\"1\" class=\"dataframe\">\n",
       "  <thead>\n",
       "    <tr style=\"text-align: right;\">\n",
       "      <th></th>\n",
       "      <th>total_orders</th>\n",
       "      <th>total_revenue</th>\n",
       "      <th>group</th>\n",
       "    </tr>\n",
       "    <tr>\n",
       "      <th>agent_id</th>\n",
       "      <th></th>\n",
       "      <th></th>\n",
       "      <th></th>\n",
       "    </tr>\n",
       "  </thead>\n",
       "  <tbody>\n",
       "    <tr>\n",
       "      <th>1893</th>\n",
       "      <td>86</td>\n",
       "      <td>24081.30</td>\n",
       "      <td>Low</td>\n",
       "    </tr>\n",
       "    <tr>\n",
       "      <th>1899</th>\n",
       "      <td>122</td>\n",
       "      <td>54479.10</td>\n",
       "      <td>High</td>\n",
       "    </tr>\n",
       "    <tr>\n",
       "      <th>1908</th>\n",
       "      <td>98</td>\n",
       "      <td>38116.47</td>\n",
       "      <td>High</td>\n",
       "    </tr>\n",
       "    <tr>\n",
       "      <th>2313</th>\n",
       "      <td>104</td>\n",
       "      <td>40665.70</td>\n",
       "      <td>High</td>\n",
       "    </tr>\n",
       "    <tr>\n",
       "      <th>2415</th>\n",
       "      <td>94</td>\n",
       "      <td>33731.29</td>\n",
       "      <td>Medium</td>\n",
       "    </tr>\n",
       "    <tr>\n",
       "      <th>2439</th>\n",
       "      <td>80</td>\n",
       "      <td>28846.14</td>\n",
       "      <td>Medium</td>\n",
       "    </tr>\n",
       "    <tr>\n",
       "      <th>3033</th>\n",
       "      <td>102</td>\n",
       "      <td>36627.72</td>\n",
       "      <td>High</td>\n",
       "    </tr>\n",
       "    <tr>\n",
       "      <th>3069</th>\n",
       "      <td>92</td>\n",
       "      <td>31154.57</td>\n",
       "      <td>Medium</td>\n",
       "    </tr>\n",
       "    <tr>\n",
       "      <th>3207</th>\n",
       "      <td>102</td>\n",
       "      <td>27969.83</td>\n",
       "      <td>Medium</td>\n",
       "    </tr>\n",
       "    <tr>\n",
       "      <th>3507</th>\n",
       "      <td>93</td>\n",
       "      <td>30803.13</td>\n",
       "      <td>Medium</td>\n",
       "    </tr>\n",
       "    <tr>\n",
       "      <th>3843</th>\n",
       "      <td>75</td>\n",
       "      <td>22088.80</td>\n",
       "      <td>Low</td>\n",
       "    </tr>\n",
       "    <tr>\n",
       "      <th>4083</th>\n",
       "      <td>110</td>\n",
       "      <td>47562.43</td>\n",
       "      <td>High</td>\n",
       "    </tr>\n",
       "    <tr>\n",
       "      <th>4170</th>\n",
       "      <td>96</td>\n",
       "      <td>32825.97</td>\n",
       "      <td>Medium</td>\n",
       "    </tr>\n",
       "    <tr>\n",
       "      <th>4218</th>\n",
       "      <td>93</td>\n",
       "      <td>27716.00</td>\n",
       "      <td>Medium</td>\n",
       "    </tr>\n",
       "    <tr>\n",
       "      <th>4533</th>\n",
       "      <td>116</td>\n",
       "      <td>35081.58</td>\n",
       "      <td>High</td>\n",
       "    </tr>\n",
       "    <tr>\n",
       "      <th>5196</th>\n",
       "      <td>111</td>\n",
       "      <td>34933.12</td>\n",
       "      <td>Medium</td>\n",
       "    </tr>\n",
       "    <tr>\n",
       "      <th>5343</th>\n",
       "      <td>121</td>\n",
       "      <td>37098.77</td>\n",
       "      <td>High</td>\n",
       "    </tr>\n",
       "    <tr>\n",
       "      <th>5463</th>\n",
       "      <td>92</td>\n",
       "      <td>20436.10</td>\n",
       "      <td>Low</td>\n",
       "    </tr>\n",
       "    <tr>\n",
       "      <th>5469</th>\n",
       "      <td>99</td>\n",
       "      <td>35580.74</td>\n",
       "      <td>High</td>\n",
       "    </tr>\n",
       "    <tr>\n",
       "      <th>5472</th>\n",
       "      <td>81</td>\n",
       "      <td>19780.66</td>\n",
       "      <td>Low</td>\n",
       "    </tr>\n",
       "    <tr>\n",
       "      <th>5550</th>\n",
       "      <td>69</td>\n",
       "      <td>26619.17</td>\n",
       "      <td>Low</td>\n",
       "    </tr>\n",
       "    <tr>\n",
       "      <th>5586</th>\n",
       "      <td>68</td>\n",
       "      <td>9594.44</td>\n",
       "      <td>Low</td>\n",
       "    </tr>\n",
       "    <tr>\n",
       "      <th>5676</th>\n",
       "      <td>104</td>\n",
       "      <td>30780.88</td>\n",
       "      <td>Medium</td>\n",
       "    </tr>\n",
       "    <tr>\n",
       "      <th>5730</th>\n",
       "      <td>129</td>\n",
       "      <td>34914.82</td>\n",
       "      <td>Medium</td>\n",
       "    </tr>\n",
       "    <tr>\n",
       "      <th>5934</th>\n",
       "      <td>86</td>\n",
       "      <td>29749.84</td>\n",
       "      <td>Medium</td>\n",
       "    </tr>\n",
       "    <tr>\n",
       "      <th>5940</th>\n",
       "      <td>50</td>\n",
       "      <td>15610.53</td>\n",
       "      <td>Low</td>\n",
       "    </tr>\n",
       "    <tr>\n",
       "      <th>5949</th>\n",
       "      <td>89</td>\n",
       "      <td>22207.79</td>\n",
       "      <td>Low</td>\n",
       "    </tr>\n",
       "  </tbody>\n",
       "</table>\n",
       "</div>"
      ],
      "text/plain": [
       "          total_orders  total_revenue   group\n",
       "agent_id                                     \n",
       "1893                86       24081.30     Low\n",
       "1899               122       54479.10    High\n",
       "1908                98       38116.47    High\n",
       "2313               104       40665.70    High\n",
       "2415                94       33731.29  Medium\n",
       "2439                80       28846.14  Medium\n",
       "3033               102       36627.72    High\n",
       "3069                92       31154.57  Medium\n",
       "3207               102       27969.83  Medium\n",
       "3507                93       30803.13  Medium\n",
       "3843                75       22088.80     Low\n",
       "4083               110       47562.43    High\n",
       "4170                96       32825.97  Medium\n",
       "4218                93       27716.00  Medium\n",
       "4533               116       35081.58    High\n",
       "5196               111       34933.12  Medium\n",
       "5343               121       37098.77    High\n",
       "5463                92       20436.10     Low\n",
       "5469                99       35580.74    High\n",
       "5472                81       19780.66     Low\n",
       "5550                69       26619.17     Low\n",
       "5586                68        9594.44     Low\n",
       "5676               104       30780.88  Medium\n",
       "5730               129       34914.82  Medium\n",
       "5934                86       29749.84  Medium\n",
       "5940                50       15610.53     Low\n",
       "5949                89       22207.79     Low"
      ]
     },
     "execution_count": 28,
     "metadata": {},
     "output_type": "execute_result"
    }
   ],
   "source": [
    "\n",
    "data['order_price'] = pd.to_numeric(data['order_price'], errors='coerce')\n",
    "\n",
    "\n",
    "agent_stats = data.groupby('agent_id').agg(\n",
    "    total_orders=('sales_order_id', 'count'),\n",
    "    total_revenue=('order_price', 'sum'),\n",
    ")\n",
    "\n",
    "\n",
    "agent_stats['group'] = pd.qcut(agent_stats['total_revenue'],\n",
    "                               q=[0, 0.3, 0.7, 1],\n",
    "                               labels=['Low', 'Medium', 'High'])\n",
    "\n",
    "agent_stats"
   ]
  },
  {
   "cell_type": "markdown",
   "metadata": {},
   "source": [
    "#### Visualization"
   ]
  },
  {
   "cell_type": "code",
   "execution_count": null,
   "metadata": {},
   "outputs": [
    {
     "data": {
      "image/png": "[encoded data removed]",
      "text/plain": [
       "<Figure size 800x500 with 2 Axes>"
      ]
     },
     "metadata": {},
     "output_type": "display_data"
    }
   ],
   "source": [
    "\n",
    "agent_stats.plot.scatter(x='total_orders', y='total_revenue',\n",
    "                        c='group', colormap='viridis', figsize=(8,5))\n",
    "plt.title(\"Agent Performance Clustering\")\n",
    "plt.xlabel(\"Number of Orders\")\n",
    "plt.ylabel(\"Total Revenue ($)\")\n",
    "\n",
    "plt.show()"
   ]
  },
  {
   "cell_type": "markdown",
   "metadata": {},
   "source": [
    "#### Visualization Count of Products per Order"
   ]
  },
  {
   "cell_type": "code",
   "execution_count": 19,
   "metadata": {},
   "outputs": [
    {
     "data": {
      "image/png": "[encoded data removed]",
      "text/plain": [
       "<Figure size 1000x600 with 1 Axes>"
      ]
     },
     "metadata": {},
     "output_type": "display_data"
    }
   ],
   "source": [
    "plt.figure(figsize=(10, 6))\n",
    "sns.countplot(data=data, x='count_of_products')\n",
    "plt.title('Distribution of Product Count per Order')\n",
    "plt.xlabel('Number of Products')\n",
    "plt.ylabel('Count')\n",
    "plt.show()"
   ]
  },
  {
   "cell_type": "markdown",
   "metadata": {},
   "source": [
    "####  Retailer Types Distribution"
   ]
  },
  {
   "cell_type": "code",
   "execution_count": 20,
   "metadata": {},
   "outputs": [
    {
     "data": {
      "image/png": "[encoded data removed]",
      "text/plain": [
       "<Figure size 800x500 with 1 Axes>"
      ]
     },
     "metadata": {},
     "output_type": "display_data"
    }
   ],
   "source": [
    "plt.figure(figsize=(8, 5))\n",
    "data['retailer_type'].value_counts().plot(kind='bar')\n",
    "plt.title('Distribution of Retailer Types')\n",
    "plt.xlabel('Retailer Type')\n",
    "plt.ylabel('Count')\n",
    "plt.show()"
   ]
  },
  {
   "cell_type": "markdown",
   "metadata": {},
   "source": [
    "#### Order Price Outliers\n"
   ]
  },
  {
   "cell_type": "code",
   "execution_count": 29,
   "metadata": {},
   "outputs": [
    {
     "data": {
      "image/png": "[encoded data removed]",
      "text/plain": [
       "<Figure size 1000x600 with 1 Axes>"
      ]
     },
     "metadata": {},
     "output_type": "display_data"
    }
   ],
   "source": [
    "plt.figure(figsize=(10, 6))\n",
    "sns.boxplot(data=data, y='order_price')\n",
    "plt.title('Order Price Distribution with Outliers')\n",
    "plt.ylabel('Order Price')\n",
    "plt.show()"
   ]
  },
  {
   "cell_type": "code",
   "execution_count": null,
   "metadata": {},
   "outputs": [],
   "source": []
  }
 ],
 "metadata": {
  "kernelspec": {
   "display_name": "Python 3",
   "language": "python",
   "name": "python3"
  },
  "language_info": {
   "codemirror_mode": {
    "name": "ipython",
    "version": 3
   },
   "file_extension": ".py",
   "mimetype": "text/x-python",
   "name": "python",
   "nbconvert_exporter": "python",
   "pygments_lexer": "ipython3",
   "version": "3.12.6"
  }
 },
 "nbformat": 4,
 "nbformat_minor": 2
}
